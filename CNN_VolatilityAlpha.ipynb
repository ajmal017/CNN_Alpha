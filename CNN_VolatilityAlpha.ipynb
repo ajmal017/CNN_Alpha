{
  "nbformat": 4,
  "nbformat_minor": 0,
  "metadata": {
    "colab": {
      "name": "CNN-VolatilityAlpha.ipynb",
      "provenance": [],
      "collapsed_sections": [],
      "authorship_tag": "ABX9TyOXKxD+QdMp1xoAw43RUHc2",
      "include_colab_link": true
    },
    "kernelspec": {
      "name": "python3",
      "display_name": "Python 3"
    }
  },
  "cells": [
    {
      "cell_type": "markdown",
      "metadata": {
        "id": "view-in-github",
        "colab_type": "text"
      },
      "source": [
        "<a href=\"https://colab.research.google.com/github/conquerv0/CNN_Alpha/blob/master/CNN_VolatilityAlpha.ipynb\" target=\"_parent\"><img src=\"https://colab.research.google.com/assets/colab-badge.svg\" alt=\"Open In Colab\"/></a>"
      ]
    },
    {
      "cell_type": "markdown",
      "metadata": {
        "id": "L91ndDWgSTVj",
        "colab_type": "text"
      },
      "source": [
        "# Statistical Arbitrage with Market Volatility Prediction Using CNN\n",
        "\n",
        "> by Victor Xiao\n",
        "\n",
        "**Introduction**\n",
        "\n",
        "In the financial market, numerous algorithms and tools are available for the prcoessing of time series data and its respective prediction problems. This excerpt employs CNN as a measure of generating market dynamic prediction, on the foundation of regressional analysis. We will also horizontally compare with algorithms of the traditional kind. \n",
        "\n"
      ]
    },
    {
      "cell_type": "markdown",
      "metadata": {
        "id": "SGJPeqK4THoD",
        "colab_type": "text"
      },
      "source": [
        "**Problem Setting**\n",
        "\n",
        "> Volatility in the pre-market environment was chosen as a frame of interest and a good measure of respective alpha. If market volatility can be accurately and consistently predicted, opportunity of arbitrage can be captured. \n",
        "\n"
      ]
    },
    {
      "cell_type": "markdown",
      "metadata": {
        "id": "qx58hXbdKF46",
        "colab_type": "text"
      },
      "source": [
        "**Data Preparation**\n",
        "\n",
        "For the model, we utilized FISE100 index contract data from Janurary 2016 to March 2020. Below is the first five rows of the dataframe and our carried out visualization procedure."
      ]
    },
    {
      "cell_type": "markdown",
      "metadata": {
        "id": "9VKJtz7ngw9p",
        "colab_type": "text"
      },
      "source": [
        "**Data Preparation**\n",
        "\n",
        "The FISE 100 index contract data between January 2016 and March 2020 will be used for the purpose of this repository.\n",
        "\n",
        "Since the feature of interest is price volatility, whose is essentially the standard deviations of price. The volatility benchmark we established therefore,is the highest price minus the lowest price at a one-minute period and a moving average window the size of N.\n",
        "\n",
        "$Vol=\\frac{\\sum^n_i High_i - Low_i}{n}$\n",
        "\n",
        "In principle, when price significantly fluctuates, volatility should increase. To test such relationship, we randomly pick a trading day and confirm it with the respective volatility and market price. \n",
        "\n",
        "To compare the volatility within the same trading period, we visualized the volatility based on the time series. The volatility is calculated based on the five minute market window. Every point represent the volume within the last five minute, and calculated per minute within our timeframe of 1070 days.\n",
        "\n",
        "As we can see, peak in volatility repeatedly appear in the one-hour timeframe. Take 0000, 0100, 0700, 0800 for instance, all present peak in volatility. Let us visualize such peak through heat map.\n",
        "\n",
        "As we can see, DayLight Saving Time is used in the dataframe, so we need to change it to GMT. \n"
      ]
    }
  ]
}