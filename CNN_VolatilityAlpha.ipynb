{
  "nbformat": 4,
  "nbformat_minor": 0,
  "metadata": {
    "colab": {
      "name": "CNN-VolatilityAlpha.ipynb",
      "provenance": [],
      "authorship_tag": "ABX9TyPnkf3hQ2VCZj2rviQ1L/V3"
    },
    "kernelspec": {
      "name": "python3",
      "display_name": "Python 3"
    }
  },
  "cells": [
    {
      "cell_type": "markdown",
      "metadata": {
        "id": "L91ndDWgSTVj",
        "colab_type": "text"
      },
      "source": [
        "**Introduction**\n",
        "\n",
        "> In the financial market, numerous algorithms and tools are available for the prcoessing of time series data and its respective prediction problems. This excerpt employs CNN as a measure of generating market dynamic prediction, on the foundation of regressional analysis. We will also horizontally compare with algorithms of the traditional kind. \n",
        "\n"
      ]
    },
    {
      "cell_type": "markdown",
      "metadata": {
        "id": "SGJPeqK4THoD",
        "colab_type": "text"
      },
      "source": [
        "**Problem Setting**\n",
        "\n",
        "> Volatility in the pre-market environment was chosen as a frame of interest and a good measure of respective alpha. If market volatility can be accurately and consistently predicted, opportunity of arbitrage can be captured. \n",
        "\n"
      ]
    }
  ]
}