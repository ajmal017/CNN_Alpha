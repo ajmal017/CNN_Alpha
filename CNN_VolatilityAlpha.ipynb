{
  "nbformat": 4,
  "nbformat_minor": 0,
  "metadata": {
    "colab": {
      "name": "CNN-VolatilityAlpha.ipynb",
      "provenance": [],
      "authorship_tag": "ABX9TyO6dlu7zaG6WzWcqQFBfnPE",
      "include_colab_link": true
    },
    "kernelspec": {
      "name": "python3",
      "display_name": "Python 3"
    }
  },
  "cells": [
    {
      "cell_type": "markdown",
      "metadata": {
        "id": "view-in-github",
        "colab_type": "text"
      },
      "source": [
        "<a href=\"https://colab.research.google.com/github/conquerv0/CNN_Alpha/blob/master/CNN_VolatilityAlpha.ipynb\" target=\"_parent\"><img src=\"https://colab.research.google.com/assets/colab-badge.svg\" alt=\"Open In Colab\"/></a>"
      ]
    },
    {
      "cell_type": "markdown",
      "metadata": {
        "id": "L91ndDWgSTVj",
        "colab_type": "text"
      },
      "source": [
        "# Statistical Arbitrage with Market Volatility Prediction Using CNN\n",
        "\n",
        "> by Victor Xiao\n",
        "\n",
        "**Introduction**\n",
        "\n",
        "In the financial market, numerous algorithms and tools are available for the prcoessing of time series data and its respective prediction problems. This excerpt employs CNN as a measure of generating market dynamic prediction, on the foundation of regressional analysis. We will also horizontally compare with algorithms of the traditional kind. \n",
        "\n"
      ]
    },
    {
      "cell_type": "markdown",
      "metadata": {
        "id": "SGJPeqK4THoD",
        "colab_type": "text"
      },
      "source": [
        "**Problem Setting**\n",
        "\n",
        "> Volatility in the pre-market environment was chosen as a frame of interest and a good measure of respective alpha. If market volatility can be accurately and consistently predicted, opportunity of arbitrage can be captured. \n",
        "\n"
      ]
    }
  ]
}