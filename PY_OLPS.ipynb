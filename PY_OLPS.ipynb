{
  "nbformat": 4,
  "nbformat_minor": 0,
  "metadata": {
    "colab": {
      "name": "PY_OLPS.ipynb",
      "provenance": [],
      "collapsed_sections": [],
      "include_colab_link": true
    },
    "kernelspec": {
      "name": "python3",
      "display_name": "Python 3"
    }
  },
  "cells": [
    {
      "cell_type": "markdown",
      "metadata": {
        "id": "view-in-github",
        "colab_type": "text"
      },
      "source": [
        "<a href=\"https://colab.research.google.com/github/conquerv0/CNN_Alpha/blob/master/PY_OLPS.ipynb\" target=\"_parent\"><img src=\"https://colab.research.google.com/assets/colab-badge.svg\" alt=\"Open In Colab\"/></a>"
      ]
    },
    {
      "cell_type": "markdown",
      "metadata": {
        "id": "JTFNcSc_3efD",
        "colab_type": "text"
      },
      "source": [
        "# Online Portfolio Selection\n",
        "A Survey with Python Implementattion by ETC Quant\n",
        "\n",
        "\n"
      ]
    },
    {
      "cell_type": "markdown",
      "metadata": {
        "id": "7HQsHh_86Pw5",
        "colab_type": "text"
      },
      "source": [
        "Problem Setting"
      ]
    },
    {
      "cell_type": "markdown",
      "metadata": {
        "id": "qlhnidwyIFLO",
        "colab_type": "text"
      },
      "source": [
        "**Basic Import Library**"
      ]
    },
    {
      "cell_type": "code",
      "metadata": {
        "id": "-FW9_hzZIFgD",
        "colab_type": "code",
        "colab": {}
      },
      "source": [
        "import numpy as np\n",
        "import pandas as pd\n",
        "import scipy"
      ],
      "execution_count": 0,
      "outputs": []
    },
    {
      "cell_type": "markdown",
      "metadata": {
        "id": "bAOCQ0Ge29fH",
        "colab_type": "text"
      },
      "source": [
        "**Strategy 1: Benchmarks** \n",
        "\n",
        "1.   **Buy and Hold Strategy (abbr. BAH)**\n",
        "\n",
        "This strategy states that a portfolio manager will invest wealth among a pool of assets with an initial portfolio $\\mathbf{b_{1}}$ and hold until the end. The final cumulative wealth achieved by a BAH strategy is initial portfolio weighted average of individual stocks' final wealth.\n",
        "$$S_n(BAH(\\mathbf{b_1})) = \\mathbf{b_1} \\cdot (\\odot_{t=1}^{n}\\mathbf{x_t})$$ Further, if $\\mathbf{b_1}$ is the uniform portfolio $(\\frac{1}{m}, \\frac{1}{m}, \\frac{1}{m}, ..., \\frac{1}{m})$, then we called it as uniform BAH and this is often adopted as a *market* strategy to produce a market index. \\\\\n",
        "\n",
        "\n",
        "2.   **Best Stock Strategy**\n",
        "\n",
        "This is a special BAH strategy where we invest our wealth into the stock with best performance in hindsight, i.e., we find the best portfolio by maximizing the function: $$\\mathbf{b} \\cdot (\\odot_{t=1}^{n}\\mathbf{x_t})$$ where $\\mathbf{b} \\in \\Delta m$, and we denote the portfolio that maximizes the above equation $\\mathbf{b^{o}}$ As a result, the final cumulative wealth achieved by the Best (Stock) Strategy can be calculated as, $$S_n(Best) = \\textbf{max} \\ \\mathbf{b} \\cdot (\\odot_{t=1}^{n}\\mathbf{x_t}) = S_n(BAH(b^{o}))$$ \\\\\n",
        "\n",
        "3.   **Constant Rebalanced Portfolios Strategy (abbr. CRP Strategy)**\n",
        "\n",
        "This strategy rebalances the portfolio to a fixed portfolio $\\mathbf{b}$ every period. The final cumulative portfolio wealth achieved by a CRP strategy after n periods is defined as, $$S_n(CRP(\\mathbf{b})) = \\prod_{t=1}^{n}\\mathbf{b}^{T}\\mathbf{x}_{t}$$ If the $\\mathbf{b} = (\\frac{1}{m}, \\frac{1}{m}, ..., \\frac{1}{m})$, then we called the strategy Uniform CRP, i.e, UCRP. \\\\\n",
        "Now, if we maximize the function $$log \\ S_n(CRP(\\mathbf{b}))$$, and we get the portfolio that maximizes the function, $\\mathbf{b}^{*}$. Such portfolio is called Best Constant Rebalanced Portfolio, abbr. BCRP. BCRP achieves a final cumulative portfolio wealth and corresponding exopential growth rate defined as follows, $$S_n(BCRP) = S_n(CRP(\\mathbf{b}^{*}))$$, $$W_n(BCRP) = \\frac{1}{n} log \\ S_n(CRP(\\mathbf{b}^{*}))$$ Note that BCRP strategy is a hindsight strategy, which can only be calculated with complete market sequences. Cover (1991) proved that BCRP exceeds the best stock, Value Line Index and Dow Jones Index. Moreover, BCRP is invariant under permutations of the price relative sequence, i.e., the order of $\\mathbf{x}_{i}$ does not matter. \n",
        "\n",
        "\n",
        "\n",
        "\n"
      ]
    },
    {
      "cell_type": "code",
      "metadata": {
        "id": "ignD_y_d4tb9",
        "colab_type": "code",
        "colab": {}
      },
      "source": [
        ""
      ],
      "execution_count": 0,
      "outputs": []
    },
    {
      "cell_type": "markdown",
      "metadata": {
        "colab_type": "text",
        "id": "Z67lO6OE8ol8"
      },
      "source": [
        "**Strategy 3: Follow-the-Loser Approach** \n",
        "\n",
        "The underlying assumption for the optimality of BCRP is that market is identical in distribution, which does not hold in real world data and thus often leads to inferior empirical performances. In contrast to Follow-the-Winner, this strategy transfer the assets from the outperforming assets to the underperforming ones. \\\\\n",
        " \\\\\n",
        "The underlying assumptions is mean reversion[Bondt and Thaler 1985, Poterba and Summers 1988, Lo and Mackinlay 1990]. That is, the overperforming(underperforming) assets will perform poor(good) in the following periods. \n"
      ]
    },
    {
      "cell_type": "markdown",
      "metadata": {
        "id": "7k5mGex9EjpP",
        "colab_type": "text"
      },
      "source": [
        "\n",
        "\n",
        "1.   **Anti-Correlation**\n",
        "\n",
        "Anti-correlation strategy, a.k.a Anticor, assumes that the market follows the mean reversion principle. To exploit such property, it statistically makes bet on the consistency of postive lagged cross-correlation and negative auto-correlation.\n",
        "\n",
        "Such, Anticor adopts logarithmic price relatives[Hull 2008] in two specific market windows in two specific market windows, that is, $y_1 = \\log{x^{t-w}_{t-2w+1}}$ and\n",
        "$y_2 = \\log{x^{t}_{t-w+1}}$\n",
        "\n",
        "It then calculates the cross-correlation matrix between $y_1$ and $y_2$.\n",
        "\n",
        "$M_{cov(i,j)} = \\frac{1}{w-1}(y_{1,i} - y_1)^T(y_{2,j} - y_2)$\n",
        "\n",
        "$M_{cor(i,j)} = $\n"
      ]
    },
    {
      "cell_type": "code",
      "metadata": {
        "id": "qQyjABkWEjRv",
        "colab_type": "code",
        "colab": {}
      },
      "source": [
        "Class Anticor(Algo):\n",
        "  \"\"\"This strategy\"\"\"\n",
        "  def __init__(self, window: int):\n",
        "    \"\"\"\"\"\"\n",
        "    self.window = window\n",
        "    pass\n",
        "  \n",
        "  def rebalance(self, x):\n",
        "    port = x\n",
        "    n, m = port.shape\n",
        "    weights = 1/m*np.ones(port.shape)\n",
        "    for t in range(n - 1):\n",
        "      M = CORR[t, :, :]\n",
        "      \n",
        "    "
      ],
      "execution_count": 0,
      "outputs": []
    },
    {
      "cell_type": "markdown",
      "metadata": {
        "id": "gj2Abh9dXlsN",
        "colab_type": "text"
      },
      "source": [
        "2. **Passive Aggressive Mean Reversion, (abbr. PAMR)**\n",
        "\n",
        "The strategy exploits the mean reversion property with the Passive Aggressive online learning. This strategy centred around the building of a loss function in order to reflect the mean reversion property. That is, the expected return based on last price relative is larger than a threshold, the loss will linearyly increase; otherwise, the loss is zero. In particular, we have a $\\epsilon$-insensitve loss function for the $t^{th}$ period as,\n",
        "\n",
        "\n",
        "$$l_\\epsilon(b; x_t)=   \\left\\{\n",
        "\\begin{array}{ll}\n",
        "      0 & bx_t\\leq\\epsilon \\\\\n",
        "      b x_t - \\epsilon  & otherwise \\\\\n",
        "\\end{array} \n",
        "\\right.  $$\n",
        "\n",
        "where $\\epsilon$ is a sensitivity parameter that control the mean reversion threshold. Based on this loss function, PAMR passively maintain the last portfolio if loss is zero. Otherwise, it aggressively approaches a new portfolio that can force the loss zero. In short, PAMR obtains the rebalanced portfolio through the following optimization:\n",
        "\n",
        "$$b_{t+1} = \\arg\\min_{b\\in\\Delta_m} \\frac{1}{2} ||b-b_t||^2  s.t.  l_\\epsilon(b;x_t)=0$$\n",
        "\n"
      ]
    },
    {
      "cell_type": "markdown",
      "metadata": {
        "id": "2JcjolVmfue4",
        "colab_type": "text"
      },
      "source": [
        "3. **Confidence Weighted Mean Reversion, (abbr. CWMR)**\n",
        "\n",
        "This algorithm futher exploit the second order portfolio information, the variance of portfolio weight. **(note: not price or price relative)** The basic idea is to model the portfolio vector as a multivariate Gaussian distribution with mean $\\mu \\in \\mathbb{R^m}$ and the diagonal covariance matrix $\\sum \\in \\mathbb{R^{m\\times m}}$ which has non zero diagonal elements $\\sigma^2$ and zero for off-diagonal elements.\n",
        "\n",
        "In this mode, mean represents the knowledge for the portfolio, the diagonal covariance matrix term stands for the confidence we have in the corresponding portfolio mean. Then CWMR sequentially updates the mean and covariance matrix of the Gaussian distribution and draws portfolios from the distribution at the begging of the period. That is, the optimization to be solved is,\n",
        "\n",
        "$$(\\mu_{t+1}, \\sum_{t+1}) = \\arg\\min_{\\mu\\in\\Delta_m\\sum} D_{KL}(\\mathcal{N}(\\mu, \\sum) || \\mathcal{N}  (\\mu_t, \\sum_t)) s.t. Pr[\\mu \\cdot x_t \\le \\epsilon] \\ge \\theta$$\n",
        "\n",
        "To solve the optimization, we need to transform the optimization problem:\n",
        "\n",
        "$$(\\mu_{t+1}, \\sum_{t+1})= \\arg \\min \\frac{1}{2} (\\log (\\frac{\\det\\sum_t}{\\det\\sum} +Tr(\\sum_t^{-1}\\sum+(\\mu_t-\\mu))$$\n",
        "\n",
        "s.t. $$\\epsilon - \\mu^Tx_t \\ge \\phi x_t^T \\sum x_t$$\n",
        "\n",
        "$$\\mu^T1=1, \\mu\\ge 0$$\n"
      ]
    },
    {
      "cell_type": "markdown",
      "metadata": {
        "id": "VFrZ3ppxJ1z7",
        "colab_type": "text"
      },
      "source": [
        "4. **Online Moving Average Reversion (abbr. OMAR or OLMAR)**\n",
        "\n",
        "Note that the above strategy, PAMR and CWMR both have implicit assumption that single period means reversion. As convenient and effective as it is in theory, this is the core cause of failure in real dataset. OMRA was proposed to exploit statistical arbitrage opportunity on the foundation of *Moving Average Reversion*, a multiple-period mean reversion.\n",
        "\n",
        "The basic intuition of OMAR is the observation that PAMR and CWMR implicitly predicts \n",
        "\n",
        "$$x_{t+1} = \\frac{MA_t(W)}{Pt}=\\frac{1}{w}(1 + \\frac{1}{x_t} + ... + \\frac{1}{\\odot_{i=0}^{w-2}x_{t-i}})$$"
      ]
    },
    {
      "cell_type": "markdown",
      "metadata": {
        "colab_type": "text",
        "id": "VW6DfwHlPHn6"
      },
      "source": [
        "**Strategy 4: Pattern Matching based Approaches**\n",
        "\n",
        "The assumption of Pattern Maching based Approaches is that a historical behavior of market would highly possible reappear in the future. The Algorithm 3 demonstrates how to identify a historical market pattern. Then the optimization problem is to optimize the portfolio that  maximizes the expeted return with using a history market pattern which is similar to the upcoming market behavior. The optimization is\n",
        "\n",
        "$$b_{t+1} = \\mathop{\\arg\\max}_{b\\in\\Delta_m}\\prod_{i\\in C(x_1^t)}b\\cdot x_i$$\n",
        "\n",
        "1. Nonparameteric Kernel-based Log-Optimal Strategy $B^K$\\\n",
        "The similarity of two market windows is defined by its Euclidean distance. Therefore samples can be selected by limiting the similarity.\n",
        "$$C_k(x_1^t,w)=\\{w<i<t+1:||x^t_{t-w+1}-x^{i-1}_{i-w}||\\leq \\frac cl\\}$$\n",
        "where $c$ and $l$ are the thresholds for limiting the amount of similar samples.\n",
        "\n",
        "2. Nonparameteric Nearest Neighbor Log-Optimal Strategy $B^{NN}$\\\n",
        "Choosing multiple market windows rather than choosing one. Samples can be selected within $l$ nearest neighbor of the latest market window.\n",
        "$$C_N(x_1^t,w)=\\{w<i<t+1:x^{i-1}_{i-w}\\ is\\ among\\ the\\ l\\ NNs\\ of\\ x^t_{t-w+1}\\}$$\n",
        "where $l$ is a parameter which limit the number of preceding market windows.\n",
        "\n",
        "3. Correlation-Driven Nonparametric Learning Strategy $CORN$\\\n",
        "The similarity of two market windows is defined by its correlation coefficient,\n",
        "$$C_C(x_1^t,w)=\\{w<i<t+1:\\frac {cov(x^{i-1}_{i-w},x^t_{t-w+1})}{std(x^{i-1}_{i-w}std(x^t_{t-w+1})} \\geq \\rho\\}$$\n",
        "where $\\rho$ is a threshold parameter."
      ]
    }
  ]
}